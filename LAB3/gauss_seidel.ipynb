{
 "cells": [
  {
   "cell_type": "markdown",
   "id": "89f834ff-474c-4617-8c79-0de665dfe6a4",
   "metadata": {},
   "source": [
    "# Gauss seidel method"
   ]
  },
  {
   "cell_type": "markdown",
   "id": "c7b09f28-953a-4243-8b29-e1e54a7adc45",
   "metadata": {},
   "source": [
    "## Algorithm: Gauss-Seidel Method\n",
    "\n",
    "**Input:**\n",
    "- Coefficient matrix A (n x n)\n",
    "- Constant vector b (n x 1)\n",
    "- Initial guess vector x0 (n x 1)\n",
    "- Tolerance tol\n",
    "- Maximum iterations max_iter\n",
    "\n",
    "**Output:**\n",
    "- Solution vector x (n x 1)\n",
    "\n",
    "---\n",
    "\n",
    "## Steps:\n",
    "\n",
    "1. Initialize:\n",
    "   - Set iteration counter `k = 0`\n",
    "   - Set solution vector `x = x0` (initial guess)\n",
    "\n",
    "2. Iterative Update:\n",
    "   - While `k < max_iter`:\n",
    "     1. For each variable i from 0 to n-1:\n",
    "        - Compute:\n",
    "          ```\n",
    "          x[i] = (b[i] - sum(a[i][j] * x[j] for j in 0 to i-1)\n",
    "                         - sum(a[i][j] * x_old[j] for j in i+1 to n-1)) / a[i][i]\n",
    "          ```\n",
    "          - The **first sum** uses the most recent updated values of x.\n",
    "          - The **second sum** uses values from the previous iteration.\n",
    "\n",
    "     2. Convergence Check:\n",
    "        - If the maximum absolute difference between the current and previous solution is less than `tol`, **stop**.\n",
    "\n",
    "     3. Increment `k` by 1\n",
    "\n",
    "3. Return:\n",
    "   - The solution vector `x`\n",
    "   - The total number of iterations performed\n",
    "\n",
    "---\n",
    "\n",
    "**Note:**\n",
    "- Gauss-Seidel converges faster than the Jacobi method when the matrix A is **diagonally dominant**.\n",
    "- If convergence is not achieved within `max_iter`, return the last computed approximation.\n"
   ]
  },
  {
   "cell_type": "code",
   "execution_count": 1,
   "id": "4a942026-7033-46fe-98ec-b0d05795e8ab",
   "metadata": {},
   "outputs": [
    {
     "name": "stdout",
     "output_type": "stream",
     "text": [
      "Solution: [ 2.12270436 -2.38036834  0.88956963]\n",
      "Iterations: 7\n"
     ]
    }
   ],
   "source": [
    "import numpy as np\n",
    "\n",
    "# ---- Gauss-Seidel Method ----\n",
    "def gauss_seidel(A, b, x0=None, tol=1e-4, max_iter=100):\n",
    "    n = len(b)\n",
    "    x = np.zeros(n) if x0 is None else x0.astype(float)\n",
    "    \n",
    "    for k in range(max_iter):\n",
    "        x_old = x.copy()\n",
    "        \n",
    "        # Update each variable\n",
    "        for i in range(n):\n",
    "            sum1 = sum(A[i, j] * x[j] for j in range(i))          # Using updated values\n",
    "            sum2 = sum(A[i, j] * x_old[j] for j in range(i+1, n))  # Using old values\n",
    "            x[i] = (b[i] - sum1 - sum2) / A[i, i]\n",
    "\n",
    "        # Check for convergence\n",
    "        if np.max(np.abs(x - x_old)) < tol:\n",
    "            return x, k+1  # Return solution and number of iterations\n",
    "    \n",
    "    return x, max_iter  # Return last approximation if max_iter reached\n",
    "\n",
    "\n",
    "# ---- Example ----\n",
    "# System of equations:\n",
    "# 4x + y + z = 7\n",
    "# x + 5y + 2z = -8\n",
    "# 2x + 3y + 10z = 6\n",
    "\n",
    "A = np.array([[4, 1, 1],\n",
    "              [1, 5, 2],\n",
    "              [2, 3, 10]], dtype=float)\n",
    "\n",
    "b = np.array([7, -8, 6], dtype=float)\n",
    "\n",
    "initial_guess = np.zeros(3)\n",
    "\n",
    "solution, iterations = gauss_seidel(A, b, initial_guess, tol=1e-4, max_iter=100)\n",
    "\n",
    "print(\"Solution:\", solution)\n",
    "print(\"Iterations:\", iterations)\n"
   ]
  },
  {
   "cell_type": "code",
   "execution_count": null,
   "id": "23f8fc44-9e40-4a53-81ab-f7d10f69ec6a",
   "metadata": {},
   "outputs": [],
   "source": []
  }
 ],
 "metadata": {
  "kernelspec": {
   "display_name": "Python 3 (ipykernel)",
   "language": "python",
   "name": "python3"
  },
  "language_info": {
   "codemirror_mode": {
    "name": "ipython",
    "version": 3
   },
   "file_extension": ".py",
   "mimetype": "text/x-python",
   "name": "python",
   "nbconvert_exporter": "python",
   "pygments_lexer": "ipython3",
   "version": "3.12.7"
  }
 },
 "nbformat": 4,
 "nbformat_minor": 5
}
