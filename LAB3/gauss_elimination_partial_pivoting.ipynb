{
 "cells": [
  {
   "cell_type": "markdown",
   "id": "df5763ec-147b-42f0-b0be-e967174746a2",
   "metadata": {},
   "source": [
    "# Gauss elimination partial pivoting"
   ]
  },
  {
   "cell_type": "markdown",
   "id": "6cf1b0d8-a611-4b6c-bbc5-edae0408cbf7",
   "metadata": {},
   "source": [
    "## Algorithm: Gauss Elimination Method with Partial Pivoting\n",
    "\n",
    "**Input:**\n",
    "- Augmented matrix `[A|b]` of size n x (n+1), where:\n",
    "  - `A` is the coefficient matrix (n x n)\n",
    "  - `b` is the constants vector (n x 1)\n",
    "\n",
    "**Output:**\n",
    "- Solution vector `x` (n x 1)\n",
    "\n",
    "---\n",
    "\n",
    "## Steps:\n",
    "\n",
    "### 1. Forward Elimination:\n",
    "   - For each column `i` from 0 to n-2:\n",
    "     1. **Partial Pivoting:**\n",
    "        - Find the pivot row (the row with the largest absolute value in column `i`).\n",
    "        - Swap the current row `i` with the pivot row to reduce numerical errors.\n",
    "\n",
    "     2. **Elimination:**\n",
    "        - For each row `j` from `i+1` to `n-1`:\n",
    "          - Compute the factor:\n",
    "            ```\n",
    "            factor = A[j][i] / A[i][i]\n",
    "            ```\n",
    "          - Update row `j` to eliminate the element below the pivot:\n",
    "            ```\n",
    "            Row[j] = Row[j] - factor * Row[i]\n",
    "            ```\n",
    "        - This step creates zeros below the pivot position, forming an **upper triangular matrix**.\n",
    "\n",
    "---\n",
    "\n",
    "### 2. Back Substitution:\n",
    "   - After forward elimination, solve for the variables starting from the last row:\n",
    "     - For `i` from n-1 down to 0:\n",
    "       ```\n",
    "       x[i] = (b[i] - sum(A[i][j] * x[j] for j from i+1 to n-1)) / A[i][i]\n",
    "       ```\n",
    "\n",
    "---\n",
    "\n",
    "### 3. Return:\n",
    "   - The solution vector `x`.\n",
    "\n",
    "---\n",
    "\n",
    "**Note:**\n",
    "- Partial pivoting helps to **minimize rounding errors** and avoid division by very small numbers.\n",
    "- The method works best when `A` is non-singular (i.e., determinant ≠ 0).\n"
   ]
  },
  {
   "cell_type": "code",
   "execution_count": 2,
   "id": "919cc401-ea66-4b44-95c2-f696403c4e35",
   "metadata": {},
   "outputs": [
    {
     "name": "stdout",
     "output_type": "stream",
     "text": [
      "Solution: [1.4 0.6 1.6]\n"
     ]
    }
   ],
   "source": [
    "import numpy as np\n",
    "\n",
    "# ---- Gauss Elimination with Partial Pivoting ----\n",
    "def gauss_elimination_partial_pivoting(A, b):\n",
    "    A = A.astype(float)\n",
    "    b = b.astype(float)\n",
    "    n = len(b)\n",
    "\n",
    "    # Forward Elimination\n",
    "    for i in range(n-1):\n",
    "        # Step 1: Partial Pivoting\n",
    "        max_row = i + np.argmax(abs(A[i:, i]))\n",
    "        if i != max_row:\n",
    "            A[[i, max_row]] = A[[max_row, i]]  # Swap rows in A\n",
    "            b[[i, max_row]] = b[[max_row, i]]  # Swap rows in b\n",
    "\n",
    "        # Step 2: Elimination\n",
    "        for j in range(i+1, n):\n",
    "            factor = A[j, i] / A[i, i]\n",
    "            A[j, i:] -= factor * A[i, i:]\n",
    "            b[j] -= factor * b[i]\n",
    "\n",
    "    # Back Substitution\n",
    "    x = np.zeros(n)\n",
    "    for i in range(n-1, -1, -1):\n",
    "        x[i] = (b[i] - np.dot(A[i, i+1:], x[i+1:])) / A[i, i]\n",
    "\n",
    "    return x\n",
    "\n",
    "\n",
    "# ---- Example ----\n",
    "# Example system:\n",
    "# 2x + y + z = 5\n",
    "# 4x + 3y + z = 9\n",
    "# -2x + y + 2z = 1\n",
    "\n",
    "A = np.array([[2, 1, 1],\n",
    "              [4, 3, 1],\n",
    "              [-2, 1, 2]])\n",
    "\n",
    "b = np.array([5, 9, 1])\n",
    "\n",
    "solution = gauss_elimination_partial_pivoting(A, b)\n",
    "print(\"Solution:\", solution)\n"
   ]
  },
  {
   "cell_type": "code",
   "execution_count": null,
   "id": "e4631505-707a-4d58-9b03-526946ffd080",
   "metadata": {},
   "outputs": [],
   "source": []
  }
 ],
 "metadata": {
  "kernelspec": {
   "display_name": "Python 3 (ipykernel)",
   "language": "python",
   "name": "python3"
  },
  "language_info": {
   "codemirror_mode": {
    "name": "ipython",
    "version": 3
   },
   "file_extension": ".py",
   "mimetype": "text/x-python",
   "name": "python",
   "nbconvert_exporter": "python",
   "pygments_lexer": "ipython3",
   "version": "3.12.7"
  }
 },
 "nbformat": 4,
 "nbformat_minor": 5
}
