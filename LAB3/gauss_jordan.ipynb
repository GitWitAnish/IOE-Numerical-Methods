{
 "cells": [
  {
   "cell_type": "markdown",
   "id": "b0112c36-5059-4a3f-a769-f42770d52d95",
   "metadata": {},
   "source": [
    "# Gauss-Jordan Method\n"
   ]
  },
  {
   "cell_type": "markdown",
   "id": "a2acdaf9-fcb4-4d94-8083-c291a14e66e4",
   "metadata": {},
   "source": [
    "## Algorithm: Gauss-Jordan Method\n",
    "\n",
    "**Input:**  \n",
    "- Coefficient matrix `A` of size `n x n`.  \n",
    "- Constant vector `b` of size `n`.\n",
    "\n",
    "**Output:**  \n",
    "- Solution vector `x`.\n",
    "\n",
    "---\n",
    "\n",
    "### Steps:\n",
    "1. Form the augmented matrix:  \n",
    "   $$[A|b]$$\n",
    "\n",
    "2. For each row `i` from 1 to `n`:\n",
    "   - **Make the pivot element 1:**\n",
    "     - Divide the entire row `i` by the pivot element `A[i, i]`.\n",
    "     - This ensures `A[i, i] = 1`.\n",
    "   \n",
    "   - **Eliminate other entries in the current column:**\n",
    "     - For every other row `j ≠ i`, make `A[j, i] = 0`.\n",
    "     - Perform the operation:  \n",
    "       $$Row[j] = Row[j] - A[j, i] \\cdot Row[i]$$\n",
    "\n",
    "3. After processing all rows:\n",
    "   - The left `n x n` part of the matrix becomes the identity matrix `I`.\n",
    "   - The rightmost column contains the solution vector `x`.\n",
    "\n",
    "4. Extract the last column of the augmented matrix as the solution:\n",
    "   $$x = \\text{LastColumn}([A|b])$$\n",
    "\n",
    "---\n",
    "\n",
    "**Result:**  \n",
    "The solution vector `x` directly represents the values of the variables.\n"
   ]
  },
  {
   "cell_type": "code",
   "execution_count": 2,
   "id": "bfa2f2dd-43da-45f0-82ec-44b96aecc2bc",
   "metadata": {},
   "outputs": [
    {
     "name": "stdout",
     "output_type": "stream",
     "text": [
      "Solution Vector [x, y, z]: [ 2.  3. -1.]\n"
     ]
    }
   ],
   "source": [
    "import numpy as np\n",
    "\n",
    "# Gauss-Jordan Method\n",
    "def gauss_jordan(A, b):\n",
    "    n = len(b)\n",
    "    # Create augmented matrix [A|b]\n",
    "    aug = np.hstack([A.astype(float), b.reshape(-1, 1).astype(float)])\n",
    "    \n",
    "    for i in range(n):\n",
    "        # Make pivot element 1\n",
    "        pivot = aug[i, i]\n",
    "        aug[i] = aug[i] / pivot\n",
    "\n",
    "        # Make other rows in current column 0\n",
    "        for j in range(n):\n",
    "            if i != j:\n",
    "                factor = aug[j, i]\n",
    "                aug[j] = aug[j] - factor * aug[i]\n",
    "    \n",
    "    # The last column of the augmented matrix contains the solution\n",
    "    return aug[:, -1]\n",
    "\n",
    "# Example system:\n",
    "# 2x + y - z = 8\n",
    "# -3x - y + 2z = -11\n",
    "# -2x + y + 2z = -3\n",
    "\n",
    "A = np.array([[2, 1, -1],\n",
    "              [-3, -1, 2],\n",
    "              [-2, 1, 2]])\n",
    "\n",
    "b = np.array([8, -11, -3])\n",
    "\n",
    "solution = gauss_jordan(A, b)\n",
    "print(\"Solution Vector [x, y, z]:\", solution)\n"
   ]
  },
  {
   "cell_type": "code",
   "execution_count": null,
   "id": "8cf44dc5-3f8e-4dcb-9def-3df3ea3675f8",
   "metadata": {},
   "outputs": [],
   "source": []
  }
 ],
 "metadata": {
  "kernelspec": {
   "display_name": "Python 3 (ipykernel)",
   "language": "python",
   "name": "python3"
  },
  "language_info": {
   "codemirror_mode": {
    "name": "ipython",
    "version": 3
   },
   "file_extension": ".py",
   "mimetype": "text/x-python",
   "name": "python",
   "nbconvert_exporter": "python",
   "pygments_lexer": "ipython3",
   "version": "3.12.7"
  }
 },
 "nbformat": 4,
 "nbformat_minor": 5
}
