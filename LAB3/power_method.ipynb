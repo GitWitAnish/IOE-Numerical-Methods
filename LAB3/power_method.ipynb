{
 "cells": [
  {
   "cell_type": "markdown",
   "id": "2de47e6b-9f5c-49c4-9f59-c8a31a0a02c4",
   "metadata": {},
   "source": [
    "# Power method"
   ]
  },
  {
   "cell_type": "markdown",
   "id": "f72c0a38-dcf6-4477-8f7e-30c93365532f",
   "metadata": {},
   "source": [
    "## Power Method Algorithm\n",
    "\n",
    "The **Power Method** is an iterative technique used to find the **largest eigenvalue** and its corresponding **eigenvector** of a matrix.  \n",
    "\n",
    "It works as follows:\n",
    "\n",
    "1. **Initial Guess:** Start with an initial guess for the eigenvector \\( x_0 \\).\n",
    "2. **Matrix Multiplication:** Multiply the matrix \\( A \\) by the current eigenvector approximation:\n",
    "   \\[\n",
    "   y_k = A \\cdot x_k\n",
    "   \\]\n",
    "3. **Normalization:** Normalize the resulting vector to avoid numerical overflow:\n",
    "   \\[\n",
    "   x_{k+1} = \\frac{y_k}{|y_k|}\n",
    "   \\]\n",
    "4. **Eigenvalue Estimate (Rayleigh Quotient):**\n",
    "   \\[\n",
    "   \\lambda_k = \\frac{x_k^T \\cdot A \\cdot x_k}{x_k^T \\cdot x_k}\n",
    "   \\]\n",
    "5. **Convergence Check:** Repeat until the difference between consecutive eigenvalue estimates is smaller than a given tolerance.\n",
    "\n",
    "---\n",
    "\n",
    "## **Pseudocode:**\n",
    "\n",
    "**Input:**  \n",
    "- Matrix `A`  \n",
    "- Initial vector `x0`  \n",
    "- Tolerance `tol`  \n",
    "- Maximum iterations `max_iter`\n",
    "\n",
    "**Output:**  \n",
    "- Largest eigenvalue `λ`  \n",
    "- Corresponding eigenvector `x`\n",
    "\n"
   ]
  },
  {
   "cell_type": "code",
   "execution_count": 1,
   "id": "2448d182-e456-4bfe-afdd-0085d907000a",
   "metadata": {},
   "outputs": [
    {
     "name": "stdout",
     "output_type": "stream",
     "text": [
      "Dominant eigenvalue ≈ 2.9999999999942655\n",
      "Eigenvector (unit norm) ≈ [0.70710558 0.70710798]\n",
      "Iterations: 11\n"
     ]
    }
   ],
   "source": [
    "import numpy as np\n",
    "\n",
    "def power_method(A, x0=None, tol=1e-8, max_iter=1000):\n",
    "    \"\"\"\n",
    "    Simple Power Method: returns dominant eigenvalue, eigenvector, iteration count.\n",
    "    - A : square numpy array\n",
    "    - x0: initial vector (optional)\n",
    "    - tol: tolerance for eigenvalue change\n",
    "    - max_iter: maximum iterations\n",
    "    \"\"\"\n",
    "    A = np.array(A, dtype=float)\n",
    "    n = A.shape[0]\n",
    "    if x0 is None:\n",
    "        rng = np.random.default_rng(1)   # reproducible random start\n",
    "        x = rng.random(n)\n",
    "    else:\n",
    "        x = np.array(x0, dtype=float)\n",
    "\n",
    "    # normalize initial vector\n",
    "    x = x / np.linalg.norm(x)\n",
    "\n",
    "    lambda_old = 0.0\n",
    "    for k in range(1, max_iter + 1):\n",
    "        y = A @ x\n",
    "        norm_y = np.linalg.norm(y)\n",
    "        if norm_y == 0:\n",
    "            raise ValueError(\"Zero vector encountered during iterations.\")\n",
    "        x = y / norm_y                      # next eigenvector approximation\n",
    "        lambda_new = float(x @ (A @ x))     # Rayleigh quotient\n",
    "\n",
    "        if abs(lambda_new - lambda_old) < tol:\n",
    "            return lambda_new, x, k\n",
    "\n",
    "        lambda_old = lambda_new\n",
    "\n",
    "    return lambda_new, x, max_iter\n",
    "\n",
    "\n",
    "# Example usage\n",
    "if __name__ == \"__main__\":\n",
    "    A = np.array([[2.0, 1.0],\n",
    "                  [1.0, 2.0]])\n",
    "    eigval, eigvec, iters = power_method(A, tol=1e-10, max_iter=1000)\n",
    "    print(\"Dominant eigenvalue ≈\", eigval)\n",
    "    print(\"Eigenvector (unit norm) ≈\", eigvec)\n",
    "    print(\"Iterations:\", iters)\n"
   ]
  },
  {
   "cell_type": "code",
   "execution_count": null,
   "id": "5ec8be42-e07e-42f8-8657-8060361c87c2",
   "metadata": {},
   "outputs": [],
   "source": []
  }
 ],
 "metadata": {
  "kernelspec": {
   "display_name": "Python 3 (ipykernel)",
   "language": "python",
   "name": "python3"
  },
  "language_info": {
   "codemirror_mode": {
    "name": "ipython",
    "version": 3
   },
   "file_extension": ".py",
   "mimetype": "text/x-python",
   "name": "python",
   "nbconvert_exporter": "python",
   "pygments_lexer": "ipython3",
   "version": "3.12.7"
  }
 },
 "nbformat": 4,
 "nbformat_minor": 5
}
