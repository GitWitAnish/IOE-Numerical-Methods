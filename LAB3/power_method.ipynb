{
 "cells": [
  {
   "cell_type": "markdown",
   "id": "2de47e6b-9f5c-49c4-9f59-c8a31a0a02c4",
   "metadata": {},
   "source": [
    "# Power method"
   ]
  },
  {
   "cell_type": "markdown",
   "id": "f72c0a38-dcf6-4477-8f7e-30c93365532f",
   "metadata": {},
   "source": [
    "\n",
    "\n",
    "**Working Principle:**  \n",
    "The Power Method is an iterative algorithm to find the **largest eigenvalue** and its **corresponding eigenvector** of a matrix.  \n",
    "It repeatedly multiplies a vector by the matrix and normalizes it until convergence.\n",
    "\n",
    "---\n",
    "\n",
    "## Algorithm\n",
    "\n",
    "**Input:**  \n",
    "- Matrix `A`  \n",
    "- Initial vector `x0`  \n",
    "- Tolerance `ε`  \n",
    "- Maximum iterations `max_iter`\n",
    "\n",
    "**Output:**  \n",
    "- Dominant eigenvalue `λ`  \n",
    "- Dominant eigenvector `x`\n",
    "\n",
    "**Steps:**\n",
    "\n",
    "1. Start with an initial guess `x0` (non-zero vector) and normalize it:\n",
    "   - `x = x0 / ||x0||`\n",
    "\n",
    "2. Set `λ_old = 0`.\n",
    "\n",
    "3. **Repeat until convergence or maximum iterations:**\n",
    "   - Compute `y = A * x`\n",
    "   - Normalize `y` to get new `x`\n",
    "   - Compute Rayleigh Quotient:  \n",
    "     `λ = x^T * A * x`\n",
    "   - If `|λ - λ_old| < ε`, stop\n",
    "   - Update `λ_old = λ`\n",
    "\n",
    "## Power Method Algorithm\n",
    "\n",
    "The **Power Method** is an iterative technique used to find the **largest eigenvalue** and its corresponding **eigenvector** of a matrix.  \n",
    "\n",
    "1. **Initial Guess:** Start with an initial guess for the eigenvector $x_0$.\n",
    "2. **Matrix Multiplication:** Multiply the matrix $A$ by the current eigenvector approximation:  \n",
    "   $$y_k = A \\cdot x_k$$\n",
    "3. **Normalization:** Normalize the resulting vector to avoid numerical overflow:  \n",
    "   $$x_{k+1} = \\frac{y_k}{||y_k||}$$\n",
    "4. **Eigenvalue Estimate (Rayleigh Quotient):**  \n",
    "   $$\\lambda_k = \\frac{{x_k}^T \\cdot A \\cdot x_k}{{x_k}^T \\cdot x_k}$$\n",
    "5. **Convergence Check:** Repeat until the difference between consecutive eigenvalue estimates is smaller than a given tolerance.\n",
    "\n",
    "\n",
    "## **Pseudocode:**\n",
    "\n",
    "**Input:**  \n",
    "- Matrix `A`  \n",
    "- Initial vector `x0`  \n",
    "- Tolerance `tol`  \n",
    "- Maximum iterations `max_iter`\n",
    "\n",
    "**Output:**  \n",
    "- Largest eigenvalue `λ`  \n",
    "- Corresponding eigenvector `x`\n",
    "\n",
    "4. Return `λ` and `x`.\n"
   ]
  },
  {
   "cell_type": "code",
   "execution_count": 1,
   "id": "2448d182-e456-4bfe-afdd-0085d907000a",
   "metadata": {},
   "outputs": [
    {
     "name": "stdout",
     "output_type": "stream",
     "text": [
      "Dominant Eigenvalue: 3.6180339631667073\n",
      "Dominant Eigenvector: [0.5258221  0.85059457]\n"
     ]
    }
   ],
   "source": [
    "import numpy as np\n",
    "\n",
    "def power_method(A, x0, tol=1e-6, max_iter=100):\n",
    "    x = x0 / np.linalg.norm(x0)  # Normalize initial vector\n",
    "    lambda_old = 0\n",
    "\n",
    "    for _ in range(max_iter):\n",
    "        y = np.dot(A, x)\n",
    "        x = y / np.linalg.norm(y)\n",
    "        lambda_new = np.dot(x.T, np.dot(A, x))\n",
    "        \n",
    "        if abs(lambda_new - lambda_old) < tol:\n",
    "            break\n",
    "        lambda_old = lambda_new\n",
    "\n",
    "    return lambda_new, x\n",
    "\n",
    "# Example usage\n",
    "A = np.array([[2, 1],\n",
    "              [1, 3]], dtype=float)\n",
    "x0 = np.array([1, 1], dtype=float)\n",
    "\n",
    "eigenvalue, eigenvector = power_method(A, x0)\n",
    "\n",
    "print(\"Dominant Eigenvalue:\", eigenvalue)\n",
    "print(\"Dominant Eigenvector:\", eigenvector)\n"
   ]
  },
  {
   "cell_type": "code",
   "execution_count": null,
   "id": "5ec8be42-e07e-42f8-8657-8060361c87c2",
   "metadata": {},
   "outputs": [],
   "source": []
  }
 ],
 "metadata": {
  "kernelspec": {
   "display_name": "Python 3 (ipykernel)",
   "language": "python",
   "name": "python3"
  },
  "language_info": {
   "codemirror_mode": {
    "name": "ipython",
    "version": 3
   },
   "file_extension": ".py",
   "mimetype": "text/x-python",
   "name": "python",
   "nbconvert_exporter": "python",
   "pygments_lexer": "ipython3",
   "version": "3.12.7"
  }
 },
 "nbformat": 4,
 "nbformat_minor": 5
}
