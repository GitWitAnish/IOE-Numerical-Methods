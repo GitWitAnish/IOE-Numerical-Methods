{
 "cells": [
  {
   "cell_type": "markdown",
   "id": "3dc54be1-2ae5-4cf3-9b24-3cae397de6da",
   "metadata": {},
   "source": [
    "# Lagrange Interpolation\n",
    "\n",
    "## Working Principle:\n",
    "Lagrange Interpolation is a method for estimating the values of a function given a set of data points. It involves constructing a polynomial that passes through all the given points. The general form of the Lagrange polynomial is:\n",
    "\n",
    "**P(x) = L₀(x) · y₀ + L₁(x) · y₁ + … + Lₙ(x) · yₙ**\n",
    "\n",
    "Where:\n",
    "• P(x) is the interpolated polynomial at the point x\n",
    "• yᵢ are the given values (output for each data point)\n",
    "• Lᵢ(x) are the Lagrange basis polynomials, defined as:\n",
    "\n",
    "**Lᵢ(x) = ∏ⁿⱼ₌₀,ⱼ≠ᵢ {(x - xⱼ)/(xᵢ - xⱼ)}**\n",
    "\n",
    "The Lagrange basis polynomial Lᵢ(x) is constructed to be equal to 1 at x = xᵢ and 0 at all other data points xⱼ, for j ≠ i. The final polynomial is formed by summing all such products for each data point.\n",
    "\n",
    "## Pseudocode:\n",
    "**Input:** Array of data points (x, y), Value of x to interpolate (x_value), Number of data points (n)\n",
    "\n",
    "**Output:** Interpolated value at x_value\n",
    "\n",
    "1. Initialize P(x) = 0 (this will hold the final interpolated value)\n",
    "2. For i = 0 to n-1:\n",
    "   a. Initialize L(x) = 1 (Lagrange basis polynomial)\n",
    "   b. For j = 0 to n-1:\n",
    "      If j ≠ i: L(x) *= (x_value - x[j]) / (x[i] - x[j])\n",
    "   c. Update P(x) by adding (L(x) * y[i]) to it\n",
    "3. Return the value of P(x) at x_value"
   ]
  },
  {
   "cell_type": "code",
   "execution_count": 2,
   "id": "4d73ea7e-75f4-4ac8-bee9-845349027d1c",
   "metadata": {},
   "outputs": [
    {
     "name": "stdout",
     "output_type": "stream",
     "text": [
      "Interpolated value at x = 1.5: y = 4.375\n",
      "Interpolated value at x = 3: y = 9.0\n"
     ]
    }
   ],
   "source": [
    "def lagrange_interpolation(x, y, x_value):\n",
    "    n = len(x)\n",
    "    result = 0.0\n",
    "    \n",
    "    for i in range(n):\n",
    "        # Calculate Lagrange basis polynomial L(x)\n",
    "        L = 1.0\n",
    "        for j in range(n):\n",
    "            if j != i:\n",
    "                L *= (x_value - x[j]) / (x[i] - x[j])\n",
    "        \n",
    "        # Add term to result\n",
    "        result += L * y[i]\n",
    "    \n",
    "    return result\n",
    "\n",
    "# Example usage\n",
    "x_data = [0, 1, 2, 3]\n",
    "y_data = [1, 2, 9, 28]\n",
    "x_interpolate = 1.5\n",
    "\n",
    "result = lagrange_interpolation(x_data, y_data, x_interpolate)\n",
    "print(f\"Interpolated value at x = {x_interpolate}: y = {result}\")\n",
    "\n",
    "# Another example\n",
    "x_data2 = [1, 2, 4, 5]\n",
    "y_data2 = [1, 4, 16, 25]  # x^2\n",
    "x_interpolate2 = 3\n",
    "\n",
    "result2 = lagrange_interpolation(x_data2, y_data2, x_interpolate2)\n",
    "print(f\"Interpolated value at x = {x_interpolate2}: y = {result2}\")"
   ]
  },
  {
   "cell_type": "code",
   "execution_count": null,
   "id": "4b5607a1-74b6-4002-9365-706f1ee6244a",
   "metadata": {},
   "outputs": [],
   "source": []
  }
 ],
 "metadata": {
  "kernelspec": {
   "display_name": "Python 3 (ipykernel)",
   "language": "python",
   "name": "python3"
  },
  "language_info": {
   "codemirror_mode": {
    "name": "ipython",
    "version": 3
   },
   "file_extension": ".py",
   "mimetype": "text/x-python",
   "name": "python",
   "nbconvert_exporter": "python",
   "pygments_lexer": "ipython3",
   "version": "3.12.7"
  }
 },
 "nbformat": 4,
 "nbformat_minor": 5
}
