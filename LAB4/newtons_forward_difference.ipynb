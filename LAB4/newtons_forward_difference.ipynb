{
 "cells": [
  {
   "cell_type": "markdown",
   "id": "32e5021c-6500-41a5-b7c1-f169b7d3cd78",
   "metadata": {},
   "source": [
    "\n",
    "# Newton's Forward Difference Interpolation"
   ]
  },
  {
   "cell_type": "markdown",
   "id": "b92ffb9f-6128-4f0f-8ad0-9843a3b9841b",
   "metadata": {},
   "source": [
    "\n",
    "\n",
    "## Working Principle:\n",
    "Newton's Forward Difference Interpolation is a method for estimating the values of a function for intermediate values of the independent variable when a table of values is available. The method uses the forward differences, which are based on the values at the given data points, to create an interpolation polynomial.\n",
    "\n",
    "## Formula:\n",
    "The formula for the Newton Forward Difference interpolation is:\n",
    "\n",
    "**P(x) = y₀ + (x - x₀) · Δy₀ + {(x - x₀)(x - x₁)}/2! · Δ²y₀ + ...**\n",
    "\n",
    "Where:\n",
    "• P(x) is the interpolated value at point x\n",
    "• y₀ is the known value at x₀\n",
    "• Δy₀ is the first forward difference\n",
    "• Δ²y₀ is the second forward difference, and so on\n",
    "\n",
    "## Forward Differences:\n",
    "The forward differences are calculated using the following recursive relations:\n",
    "\n",
    "**First forward difference:** Δyᵢ = yᵢ₊₁ - yᵢ\n",
    "\n",
    "**Second forward difference:** Δ²yᵢ = Δyᵢ₊₁ - Δyᵢ\n",
    "\n",
    "## Pseudocode:\n",
    "**Input:** Array of data points (x, y), Value of x to interpolate (x_value), Number of data points (n)\n",
    "\n",
    "**Output:** Interpolated value at x_value\n",
    "\n",
    "1. Calculate the forward differences using the given data points\n",
    "2. Initialize the interpolation polynomial P(x) with the first y value\n",
    "3. For i = 1 to n-1:\n",
    "   a. Calculate the term for the i-th forward difference\n",
    "   b. Update the polynomial P(x)\n",
    "4. Return the value of the polynomial P(x) at x_value"
   ]
  },
  {
   "cell_type": "code",
   "execution_count": 2,
   "id": "d73a68c4-5a2b-4740-a5aa-2cb7d3d043a4",
   "metadata": {},
   "outputs": [
    {
     "name": "stdout",
     "output_type": "stream",
     "text": [
      "Interpolated value at x = 2.5: y = 16.625\n",
      "Interpolated value at x = 2.5: y = 15.625\n"
     ]
    }
   ],
   "source": [
    "def newton_forward_interpolation(x, y, x_value):\n",
    "    n = len(x)\n",
    "    \n",
    "    # Create difference table\n",
    "    diff = []\n",
    "    for i in range(n):\n",
    "        diff.append([0] * n)\n",
    "        diff[i][0] = y[i]\n",
    "    \n",
    "    # Calculate forward differences\n",
    "    for j in range(1, n):\n",
    "        for i in range(n - j):\n",
    "            diff[i][j] = diff[i + 1][j - 1] - diff[i][j - 1]\n",
    "    \n",
    "    # Calculate interpolation\n",
    "    h = x[1] - x[0]  # assuming equal spacing\n",
    "    u = (x_value - x[0]) / h\n",
    "    \n",
    "    result = diff[0][0]  # y0\n",
    "    u_term = u\n",
    "    factorial = 1\n",
    "    \n",
    "    for i in range(1, n):\n",
    "        factorial *= i\n",
    "        result += (u_term * diff[0][i]) / factorial\n",
    "        u_term *= (u - i)\n",
    "    \n",
    "    return result\n",
    "\n",
    "# Example usage\n",
    "x_data = [0, 1, 2, 3, 4]\n",
    "y_data = [1, 2, 9, 28, 65]\n",
    "x_interpolate = 2.5\n",
    "\n",
    "result = newton_forward_interpolation(x_data, y_data, x_interpolate)\n",
    "print(f\"Interpolated value at x = {x_interpolate}: y = {result}\")\n",
    "\n",
    "# Another example\n",
    "x_data2 = [1, 2, 3, 4]\n",
    "y_data2 = [1, 8, 27, 64]  # x^3\n",
    "x_interpolate2 = 2.5\n",
    "\n",
    "result2 = newton_forward_interpolation(x_data2, y_data2, x_interpolate2)\n",
    "print(f\"Interpolated value at x = {x_interpolate2}: y = {result2}\")"
   ]
  },
  {
   "cell_type": "code",
   "execution_count": null,
   "id": "09d67b19-71c0-4799-b484-75f8fc71a7c5",
   "metadata": {},
   "outputs": [],
   "source": []
  }
 ],
 "metadata": {
  "kernelspec": {
   "display_name": "Python 3 (ipykernel)",
   "language": "python",
   "name": "python3"
  },
  "language_info": {
   "codemirror_mode": {
    "name": "ipython",
    "version": 3
   },
   "file_extension": ".py",
   "mimetype": "text/x-python",
   "name": "python",
   "nbconvert_exporter": "python",
   "pygments_lexer": "ipython3",
   "version": "3.12.7"
  }
 },
 "nbformat": 4,
 "nbformat_minor": 5
}
