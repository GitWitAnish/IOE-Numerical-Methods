{
 "cells": [
  {
   "cell_type": "markdown",
   "id": "618453d4-aa81-444c-b616-2c0608527c5a",
   "metadata": {},
   "source": [
    "# Trapezoidal Rule\n",
    "\n",
    "## Working Principle:\n",
    "The Trapezoidal Rule is a numerical method for approximating the definite integral of a function. It works by dividing the area under the curve into trapezoidal segments rather than rectangles (as in the Riemann sum method). The area of each trapezoid is calculated and summed to provide an estimate for the total area under the curve.\n",
    "\n",
    "## Formula for Trapezoidal Rule:\n",
    "Given a function f(x) the integral of f(x) over the interval [a,b] is approximated by:\n",
    "\n",
    "**I ≈ (h/2)(f(a) + 2∑ᵢ₌₁ⁿ⁻¹ f(xᵢ) + f(b))**\n",
    "\n",
    "Where:\n",
    "• h = (b-a)/n is the width of each subinterval\n",
    "• xᵢ = a + i·h for i = 1, 2, …, n are the intermediate points\n",
    "• f(a) and f(b) are the function values at the endpoints of the interval\n",
    "\n",
    "## Steps for Trapezoidal Rule:\n",
    "1. Divide the interval [a, b] into n subintervals\n",
    "2. Compute the function values at the endpoints and at intermediate points\n",
    "3. Calculate the area of each trapezoid formed between consecutive points\n",
    "4. Sum the areas of all trapezoids to obtain the approximate integral\n",
    "\n",
    "## Pseudocode:\n",
    "**Input:** Function f(x), interval [a, b], number of subintervals n\n",
    "\n",
    "**Output:** Approximate integral I\n",
    "\n",
    "1. Calculate the width of each subinterval: h = (b - a) / n\n",
    "2. Initialize sum to 0: sum = 0\n",
    "3. Loop through the intermediate points: \n",
    "   for i = 1 to n-1:\n",
    "       x = a + i * h\n",
    "       sum = sum + f(x)\n",
    "4. Add the function values at the endpoints to the sum: \n",
    "   sum = sum + (f(a) + f(b)) / 2\n",
    "5. Multiply the sum by the width of each subinterval: I = h * sum\n",
    "6. Return the approximate integral I"
   ]
  },
  {
   "cell_type": "code",
   "execution_count": 1,
   "id": "765f15d9-7988-4fbd-b8ff-eb544ca7aea9",
   "metadata": {},
   "outputs": [
    {
     "name": "stdout",
     "output_type": "stream",
     "text": [
      "Integral of x^2 from 0 to 2: 2.6668000000000003\n",
      "Exact value: 2.6666666666666665\n",
      "Integral of e^x from 0 to 1: 1.7182961474504175\n",
      "Exact value: 1.718281828459045\n",
      "Integral of sin(x) from 0 to 3.141592653589793: 1.9998355038874436\n",
      "Exact value: 2\n"
     ]
    }
   ],
   "source": [
    "def trapezoidal_rule(f, a, b, n):\n",
    "    # Calculate width of each subinterval\n",
    "    h = (b - a) / n\n",
    "    \n",
    "    # Initialize sum\n",
    "    sum_value = 0\n",
    "    \n",
    "    # Add intermediate points\n",
    "    for i in range(1, n):\n",
    "        x = a + i * h\n",
    "        sum_value += f(x)\n",
    "    \n",
    "    # Add endpoints with proper weighting\n",
    "    sum_value += (f(a) + f(b)) / 2\n",
    "    \n",
    "    # Multiply by width\n",
    "    integral = h * sum_value\n",
    "    \n",
    "    return integral\n",
    "\n",
    "# Example 1: Simple polynomial function\n",
    "def f1(x):\n",
    "    return x**2\n",
    "\n",
    "a1, b1 = 0, 2\n",
    "n1 = 100\n",
    "result1 = trapezoidal_rule(f1, a1, b1, n1)\n",
    "print(f\"Integral of x^2 from {a1} to {b1}: {result1}\")\n",
    "print(f\"Exact value: {(2**3)/3}\")\n",
    "\n",
    "# Example 2: Exponential function\n",
    "import math\n",
    "\n",
    "def f2(x):\n",
    "    return math.exp(x)\n",
    "\n",
    "a2, b2 = 0, 1\n",
    "n2 = 100\n",
    "result2 = trapezoidal_rule(f2, a2, b2, n2)\n",
    "print(f\"Integral of e^x from {a2} to {b2}: {result2}\")\n",
    "print(f\"Exact value: {math.exp(1) - 1}\")\n",
    "\n",
    "# Example 3: Sine function\n",
    "def f3(x):\n",
    "    return math.sin(x)\n",
    "\n",
    "a3, b3 = 0, math.pi\n",
    "n3 = 100\n",
    "result3 = trapezoidal_rule(f3, a3, b3, n3)\n",
    "print(f\"Integral of sin(x) from {a3} to {b3}: {result3}\")\n",
    "print(f\"Exact value: 2\")"
   ]
  },
  {
   "cell_type": "code",
   "execution_count": null,
   "id": "16767c5a-2a5c-4e90-a1e5-643afff2ea56",
   "metadata": {},
   "outputs": [],
   "source": []
  }
 ],
 "metadata": {
  "kernelspec": {
   "display_name": "Python 3 (ipykernel)",
   "language": "python",
   "name": "python3"
  },
  "language_info": {
   "codemirror_mode": {
    "name": "ipython",
    "version": 3
   },
   "file_extension": ".py",
   "mimetype": "text/x-python",
   "name": "python",
   "nbconvert_exporter": "python",
   "pygments_lexer": "ipython3",
   "version": "3.12.7"
  }
 },
 "nbformat": 4,
 "nbformat_minor": 5
}
